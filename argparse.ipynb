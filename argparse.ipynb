{
  "nbformat": 4,
  "nbformat_minor": 0,
  "metadata": {
    "colab": {
      "name": "argparse.ipynb",
      "provenance": [],
      "authorship_tag": "ABX9TyMkbQ2IcDucxwK+agST2lVW",
      "include_colab_link": true
    },
    "kernelspec": {
      "name": "python3",
      "display_name": "Python 3"
    }
  },
  "cells": [
    {
      "cell_type": "markdown",
      "metadata": {
        "id": "view-in-github",
        "colab_type": "text"
      },
      "source": [
        "<a href=\"https://colab.research.google.com/github/marineche/estudando_argparse/blob/master/argparse.ipynb\" target=\"_parent\"><img src=\"https://colab.research.google.com/assets/colab-badge.svg\" alt=\"Open In Colab\"/></a>"
      ]
    },
    {
      "cell_type": "code",
      "metadata": {
        "id": "jbuKyY5tdjJq",
        "colab_type": "code",
        "colab": {
          "base_uri": "https://localhost:8080/",
          "height": 35
        },
        "outputId": "b80dc1f9-2f54-484b-96a4-fb891fc7b1ff"
      },
      "source": [
        "%%writefile exemplo1.py\n",
        "\n",
        "import argparse\n",
        "\n",
        "def main():\n",
        "  print('hello world')\n",
        "  pass\n",
        "\n",
        "if __name__=='__main__':\n",
        "  main()"
      ],
      "execution_count": null,
      "outputs": [
        {
          "output_type": "stream",
          "text": [
            "Overwriting exemplo1.py\n"
          ],
          "name": "stdout"
        }
      ]
    },
    {
      "cell_type": "code",
      "metadata": {
        "id": "o71oJ2VWeXYB",
        "colab_type": "code",
        "colab": {
          "base_uri": "https://localhost:8080/",
          "height": 35
        },
        "outputId": "eaf22b32-56ae-40d0-a946-5d3d44411ee7"
      },
      "source": [
        "!python exemplo1.py --input_file 'hola'"
      ],
      "execution_count": null,
      "outputs": [
        {
          "output_type": "stream",
          "text": [
            "hello world\n"
          ],
          "name": "stdout"
        }
      ]
    },
    {
      "cell_type": "code",
      "metadata": {
        "id": "rUWaYg3igSFp",
        "colab_type": "code",
        "colab": {}
      },
      "source": [
        "import argparse\n",
        "\n",
        "parser = argparse.ArgumentParser(description = 'Treinando')\n",
        "#ArgumentParser analisa os argumentos fornecidos"
      ],
      "execution_count": null,
      "outputs": []
    },
    {
      "cell_type": "code",
      "metadata": {
        "id": "7q3sH1TuhCoP",
        "colab_type": "code",
        "colab": {}
      },
      "source": [
        "parser.add_argument('--frase', action = 'store', dest = 'frase',\n",
        "                           default = 'Hello, world!', required = False,\n",
        "                           help = 'A frase que deseja imprimir n vezes.')"
      ],
      "execution_count": null,
      "outputs": []
    },
    {
      "cell_type": "markdown",
      "metadata": {
        "id": "78u3a_-oj-RR",
        "colab_type": "text"
      },
      "source": [
        "Argparse permite criar interfaces de linhas de comando e passar argumentos pro script, que por sua vez pode processar os valores.\n",
        "\n",
        "Um dos métodos mais importantes é o add_argument(). Ele recebe os argumentos pela linha de comando e trata-os. Seus parâmetros são:\n",
        "\n",
        "\n",
        "\n",
        "*   name/flag \n",
        "*   action\n",
        "\n",
        "*   nargs \n",
        "*   const\n",
        "\n",
        "\n",
        "*   default\n",
        "*   type\n",
        "\n",
        "\n",
        "*   choices\n",
        "*   required\n",
        "\n",
        "*   help\n",
        "*   metavar\n",
        "\n",
        "\n",
        "*   dest\n",
        "\n",
        "\n",
        "\n",
        "\n",
        "\n",
        "\n",
        "\n",
        "\n",
        "\n",
        "\n",
        "\n",
        "\n",
        "\n",
        "\n"
      ]
    },
    {
      "cell_type": "code",
      "metadata": {
        "id": "nKYp-NHykx5g",
        "colab_type": "code",
        "colab": {}
      },
      "source": [
        ""
      ],
      "execution_count": null,
      "outputs": []
    }
  ]
}